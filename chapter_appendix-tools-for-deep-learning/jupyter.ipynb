{
  "cells": [
    {
      "cell_type": "code",
      "source": [
        "%%capture\n",
        "!pip install super-gradients==3.1.0\n",
        "!pip install imutils\n",
        "!pip install roboflow\n",
        "!pip install pytube --upgrade"
      ],
      "metadata": {
        "id": "IGLgdrXdlY35"
      },
      "id": "IGLgdrXdlY35",
      "execution_count": 1,
      "outputs": []
    },
    {
      "cell_type": "code",
      "source": [],
      "metadata": {
        "id": "CktFiA0Lp3sv"
      },
      "id": "CktFiA0Lp3sv",
      "execution_count": null,
      "outputs": []
    }
  ],
  "metadata": {
    "kernelspec": {
      "display_name": "Python 3",
      "name": "python3"
    },
    "language_info": {
      "name": "python"
    },
    "required_libs": [],
    "colab": {
      "provenance": []
    }
  },
  "nbformat": 4,
  "nbformat_minor": 5
}